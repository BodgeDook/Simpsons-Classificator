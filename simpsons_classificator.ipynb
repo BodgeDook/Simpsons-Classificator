{
 "cells": [
  {
   "cell_type": "markdown",
   "id": "7935fbf1-1269-4ab9-9e24-93745b44ed3a",
   "metadata": {},
   "source": [
    "# The Simpsons Classificator"
   ]
  },
  {
   "cell_type": "markdown",
   "id": "359b2701-e156-4d25-8754-33a26be48b3a",
   "metadata": {},
   "source": [
    "So, today we're going to work with the Simpsons Dataset to teach our neural network how to classify the characters of this list:"
   ]
  },
  {
   "cell_type": "code",
   "execution_count": 6,
   "id": "a822d419-0b08-4758-a8b6-2e1feeee9af3",
   "metadata": {},
   "outputs": [
    {
     "name": "stdout",
     "output_type": "stream",
     "text": [
      "Number of all classes: 42\n"
     ]
    }
   ],
   "source": [
    "list_of_heroes = ['abraham_grampa_simpson', 'agnes_skinner', 'apu_nahasapeemapetilon', 'barney_gumble',\n",
    "                  'bart_simpson', 'carl_carlson', 'charles_montgomery_burns', 'chief_wiggum', 'cletus_spuckler',\n",
    "                  'comic_book_guy', 'disco_stu', 'edna_krabappel', 'fat_tony', 'gil', 'groundskeeper_willie',\n",
    "                  'homer_simpson', 'kent_brockman', 'krusty_the_clown', 'lenny_leonard', 'lionel_hutz', 'lisa_simpson',\n",
    "                  'maggie_simpson', 'marge_simpson', 'martin_prince', 'mayor_quimby', 'milhouse_van_houten', 'miss_hoover',\n",
    "                  'moe_szyslak', 'ned_flanders', 'nelson_muntz', 'otto_mann', 'patty_bouvier', 'principal_skinner',\n",
    "                  'professor_john_frink', 'rainier_wolfcastle', 'ralph_wiggum', 'selma_bouvier', 'sideshow_bob', 'sideshow_mel',\n",
    "                  'snake_jailbird', 'troy_mcclure', 'waylon_smithers']\n",
    "\n",
    "print(f'Number of all classes: {len(list_of_heroes)}')"
   ]
  },
  {
   "cell_type": "markdown",
   "id": "89e88b9a-868e-4df1-b2bc-66eda8f73e03",
   "metadata": {},
   "source": [
    "## *Main Libraries Installing:*"
   ]
  },
  {
   "cell_type": "code",
   "execution_count": 7,
   "id": "9285a89c-1e94-477f-a433-4bdb7fb54fee",
   "metadata": {},
   "outputs": [],
   "source": [
    "from torchvision import transforms, datasets\n",
    "from torch.utils.data import DataLoader\n",
    "import matplotlib.pyplot as plt\n",
    "from torch import optim\n",
    "import torch.nn as nn\n",
    "import numpy as np\n",
    "import shutil\n",
    "import torch"
   ]
  },
  {
   "cell_type": "markdown",
   "id": "a5e2b999-7f64-4e0c-8e1c-20668f80b61e",
   "metadata": {},
   "source": [
    "## *Some information about the Dataset:*"
   ]
  },
  {
   "cell_type": "markdown",
   "id": "25fa92f1-725a-4ef7-a696-f8165422c3d0",
   "metadata": {},
   "source": [
    "To be honest, the real dataset truly belongs to this guy: https://www.kaggle.com/datasets/alexattia/the-simpsons-characters-dataset\n",
    "But his version of the dataset is too unstable and some classes have so less images than others so our future ResNet won't be even able to notice them.\n",
    "\n",
    "That's why the students of NSU has rebuilt this dataset so it's refreshed with more data: https://www.kaggle.com/datasets/bolg4rin/simpson-dataset-fixed\n",
    "\n",
    "I just added some more pictures which were lost during their hard work so I posted it on hugging face:\n",
    "https://huggingface.co/datasets/BodgeDook/Simpsons_Dataset_2025_remade/blob/main/simpsons_dataset_v2.rar\n",
    "\n",
    "(if you have some problems or something doesn't work cuz' I've just recently started to learn these ml and dl important paltforms and sites (kaggle, hugging face, etc.) -> please, contact me on dmrzlobin@gmail.com)"
   ]
  },
  {
   "cell_type": "markdown",
   "id": "7b9eab1e-a0e6-4290-9337-de66b8675ba7",
   "metadata": {},
   "source": [
    "## *Train dataset tensoring and standartization:*"
   ]
  },
  {
   "cell_type": "markdown",
   "id": "8b739b09-7b4c-444b-9938-95f343b666d2",
   "metadata": {},
   "source": [
    "First of all, we need to bring all our images to a tensor normalized form. The images in the dataset are in completely different dimensions, so we need to bring everything to a single average form. Let's take 256 by 256.\n",
    "\n",
    "In fact, for the standard ResТet, the sizes are usually taken as 224 by 224 (Resnet18/34), but I decided to try to take 256 by 256, so as not to lose an important piece of information (again, the images in the dataset are not normalized, in some frames the image of the character's face can be at the very bottom or in the corner, and by cutting it immediately from, say, 512, to 224, you can lose 2/3 of the character's face. An exaggeration, but it can happen.)\n",
    "\n",
    "But you always need to remember, that the more you take the image the more your computing resources of your video memory are spent."
   ]
  },
  {
   "cell_type": "code",
   "execution_count": 109,
   "id": "4844c886-c81d-46b1-a9c5-132fa28c4415",
   "metadata": {},
   "outputs": [],
   "source": [
    "preprocess = transforms.Compose([\n",
    "    transforms.Resize(256), # adjusts the image to the desired size without losing information\n",
    "    transforms.CenterCrop(256), # cut the central square of the image\n",
    "    transforms.ToTensor(),\n",
    "    transforms.Normalize(mean = [0.485, 0.456, 0.406], std = [0.229, 0.224, 0.225]) # standard values counted form ImageNet\n",
    "])\n",
    "\n",
    "train_dataset = datasets.ImageFolder(root = 'simpsons_dataset_v2/train/', transform = preprocess)\n",
    "torch.save(train_dataset, 'processed_train_dataset.pth')\n",
    "\n",
    "# for the best understanding: https://pytorch.org/vision/0.20/generated/torchvision.transforms.v2.Compose.html"
   ]
  },
  {
   "cell_type": "markdown",
   "id": "083cbfb0-9648-475e-bedc-a0788ba21a7c",
   "metadata": {},
   "source": [
    "Actually, you better not to write like this: dataset = torch.load('processed_dataset.pth', weights_only = False). You can easily work with the train_dataset on the next steps, but I use it just to not to remaking it any time in the future. It's just waste of your own time."
   ]
  },
  {
   "cell_type": "code",
   "execution_count": 3,
   "id": "4937e1c4-f651-4e5f-ac4f-4f0608eae13d",
   "metadata": {},
   "outputs": [],
   "source": [
    "train_dataset = torch.load('processed_train_dataset.pth', weights_only = False)\n",
    "train_dataloader = DataLoader(train_dataset, batch_size = 32, shuffle = True) # you can use bath = 64 or even 256 but do not forget about your GPU :)"
   ]
  },
  {
   "cell_type": "markdown",
   "id": "fb845337-d80d-408b-8047-377f6a3f1627",
   "metadata": {},
   "source": [
    "`Let's check that all the classes are here:`"
   ]
  },
  {
   "cell_type": "code",
   "execution_count": 4,
   "id": "7b752bc6-1cbc-440b-8034-fc1edd230dc3",
   "metadata": {
    "scrolled": true
   },
   "outputs": [
    {
     "name": "stdout",
     "output_type": "stream",
     "text": [
      "abraham_grampa_simpson : class <0>\n",
      "\n",
      "agnes_skinner : class <1>\n",
      "\n",
      "apu_nahasapeemapetilon : class <2>\n",
      "\n",
      "barney_gumble : class <3>\n",
      "\n",
      "bart_simpson : class <4>\n",
      "\n",
      "carl_carlson : class <5>\n",
      "\n",
      "charles_montgomery_burns : class <6>\n",
      "\n",
      "chief_wiggum : class <7>\n",
      "\n",
      "cletus_spuckler : class <8>\n",
      "\n",
      "comic_book_guy : class <9>\n",
      "\n",
      "disco_stu : class <10>\n",
      "\n",
      "edna_krabappel : class <11>\n",
      "\n",
      "fat_tony : class <12>\n",
      "\n",
      "gil : class <13>\n",
      "\n",
      "groundskeeper_willie : class <14>\n",
      "\n",
      "homer_simpson : class <15>\n",
      "\n",
      "kent_brockman : class <16>\n",
      "\n",
      "krusty_the_clown : class <17>\n",
      "\n",
      "lenny_leonard : class <18>\n",
      "\n",
      "lionel_hutz : class <19>\n",
      "\n",
      "lisa_simpson : class <20>\n",
      "\n",
      "maggie_simpson : class <21>\n",
      "\n",
      "marge_simpson : class <22>\n",
      "\n",
      "martin_prince : class <23>\n",
      "\n",
      "mayor_quimby : class <24>\n",
      "\n",
      "milhouse_van_houten : class <25>\n",
      "\n",
      "miss_hoover : class <26>\n",
      "\n",
      "moe_szyslak : class <27>\n",
      "\n",
      "ned_flanders : class <28>\n",
      "\n",
      "nelson_muntz : class <29>\n",
      "\n",
      "otto_mann : class <30>\n",
      "\n",
      "patty_bouvier : class <31>\n",
      "\n",
      "principal_skinner : class <32>\n",
      "\n",
      "professor_john_frink : class <33>\n",
      "\n",
      "rainier_wolfcastle : class <34>\n",
      "\n",
      "ralph_wiggum : class <35>\n",
      "\n",
      "selma_bouvier : class <36>\n",
      "\n",
      "sideshow_bob : class <37>\n",
      "\n",
      "sideshow_mel : class <38>\n",
      "\n",
      "snake_jailbird : class <39>\n",
      "\n",
      "troy_mcclure : class <40>\n",
      "\n",
      "waylon_smithers : class <41>\n",
      "\n"
     ]
    }
   ],
   "source": [
    "lst = train_dataset.classes\n",
    "for i in range(len(lst)):\n",
    "    print(f'{lst[i]} : class <{i}>\\n')"
   ]
  },
  {
   "cell_type": "markdown",
   "id": "75afcfc7-fcda-4a78-8372-364f6fe10d63",
   "metadata": {},
   "source": [
    "## *Random Converted Image visualization - Test:*"
   ]
  },
  {
   "cell_type": "markdown",
   "id": "e3001fb2-fe25-4893-83e8-8e7c79c8a198",
   "metadata": {},
   "source": [
    "Let's see what our images have become. We can turn off RGB for now and look at the random results of our modification."
   ]
  },
  {
   "cell_type": "code",
   "execution_count": 112,
   "id": "d0db9368-1475-461c-ab23-30d8b30fc7ca",
   "metadata": {},
   "outputs": [
    {
     "data": {
      "image/png": "[encoded data removed]",
      "text/plain": [
       "<Figure size 640x480 with 1 Axes>"
      ]
     },
     "metadata": {},
     "output_type": "display_data"
    },
    {
     "name": "stdout",
     "output_type": "stream",
     "text": [
      "Image class: 4\n",
      "One feature batch shape: torch.Size([32, 3, 256, 256])\n",
      "One label batch shape: torch.Size([32])\n"
     ]
    }
   ],
   "source": [
    "train_features, train_labels = next(iter(dataloader))\n",
    "\n",
    "current_image, current_label = train_features[0].mean(dim = 0).squeeze(), train_labels[0]\n",
    "plt.imshow(current_image, cmap = 'gray')\n",
    "plt.show()\n",
    "print(f'Image class: {current_label}')\n",
    "print(f'One feature batch shape: {train_features.shape}')\n",
    "print(f'One label batch shape: {train_labels.shape}')"
   ]
  },
  {
   "cell_type": "code",
   "execution_count": 6,
   "id": "632e5851-98ff-4597-a378-51c9021e0338",
   "metadata": {
    "scrolled": true
   },
   "outputs": [
    {
     "name": "stdout",
     "output_type": "stream",
     "text": [
      "tensor([[[-0.9534, -1.2445, -1.2445,  ...,  0.3138,  0.3309,  0.2282],\n",
      "         [-1.0562, -1.2103, -1.1247,  ...,  0.2967,  0.3481,  0.2282],\n",
      "         [-1.1760, -1.1760, -0.9363,  ...,  0.3138,  0.3481,  0.2453],\n",
      "         ...,\n",
      "         [ 0.1768,  0.0741,  0.0569,  ...,  1.7009,  1.7009,  1.7009],\n",
      "         [ 0.3481,  0.1768,  0.0398,  ...,  1.7009,  1.7009,  1.7009],\n",
      "         [ 0.2624,  0.1597,  0.1083,  ...,  1.7009,  1.7009,  1.7009]],\n",
      "\n",
      "        [[-0.5126, -0.8452, -0.8452,  ...,  0.4153,  0.4328,  0.3627],\n",
      "         [-0.6001, -0.8102, -0.7227,  ...,  0.3978,  0.4503,  0.3627],\n",
      "         [-0.7402, -0.7752, -0.5301,  ...,  0.4153,  0.4503,  0.3803],\n",
      "         ...,\n",
      "         [ 0.1702,  0.1176,  0.0476,  ...,  1.0455,  1.0455,  1.0455],\n",
      "         [ 0.2752,  0.1877, -0.0049,  ...,  1.0455,  1.0455,  1.0455],\n",
      "         [ 0.1352,  0.1352,  0.0651,  ...,  1.0455,  1.0455,  1.0455]],\n",
      "\n",
      "        [[ 0.6356,  0.3219,  0.3219,  ...,  1.3328,  1.3502,  1.2282],\n",
      "         [ 0.5485,  0.3568,  0.4439,  ...,  1.3154,  1.3677,  1.2457],\n",
      "         [ 0.4265,  0.3916,  0.6356,  ...,  1.3328,  1.3677,  1.2631],\n",
      "         ...,\n",
      "         [ 0.6531,  0.9668,  0.7925,  ..., -1.3513, -1.3513, -1.3164],\n",
      "         [ 0.6879,  1.0888,  0.8099,  ..., -1.3513, -1.3513, -1.3164],\n",
      "         [ 0.5136,  1.1062,  0.9668,  ..., -1.3513, -1.3513, -1.3513]]])\n",
      "0\n"
     ]
    }
   ],
   "source": [
    "# the abraham_simpson tensor example:\n",
    "print(train_dataset[0][0])  # ['abraham_simpson'] tensor\n",
    "print(train_dataset[0][1]) #  ['abraham_simpson'] -> label ('0')"
   ]
  },
  {
   "cell_type": "markdown",
   "id": "f31e56ed-6bd6-4fbc-9e5e-fe7621eb397d",
   "metadata": {},
   "source": [
    "## ***ResNet Architechture Realization:***"
   ]
  },
  {
   "cell_type": "markdown",
   "id": "6db9172f-cc95-4a41-a951-35d08bf8bed4",
   "metadata": {},
   "source": [
    "Before we start to build our ResNet (I'll remind you, that 'ResNet' name means 'Residual Neural Network'), firstly, we need to understand what the device is going to be used while model learning. If your video card supports ***'cuda'*** than you can simply give all the calculations. Otherwise your CPU is going to suffer so much:)"
   ]
  },
  {
   "cell_type": "code",
   "execution_count": 8,
   "id": "4dd1a3e6-c09f-4c45-8165-7008c6709acf",
   "metadata": {},
   "outputs": [
    {
     "name": "stdout",
     "output_type": "stream",
     "text": [
      "cuda\n"
     ]
    }
   ],
   "source": [
    "device = torch.device('cuda' if torch.cuda.is_available() else 'cpu')\n",
    "print(device)"
   ]
  },
  {
   "cell_type": "markdown",
   "id": "f42b9460-5ffd-470e-9a1d-9120bbdca55d",
   "metadata": {},
   "source": [
    "Great, now there'll be some theory about the ResNets' work:"
   ]
  },
  {
   "cell_type": "markdown",
   "id": "bcaa1311-1522-4637-b5f2-a2949ae7a1bc",
   "metadata": {},
   "source": [
    "## ***Some info about CNN: work*** ##"
   ]
  },
  {
   "cell_type": "markdown",
   "id": "f9bfb663-f5a9-47b4-a117-6d1586ba1e44",
   "metadata": {},
   "source": [
    "![Sample Image](https://cdn.analyticsvidhya.com/wp-content/uploads/2020/10/90650dnn2.webp)"
   ]
  },
  {
   "cell_type": "markdown",
   "id": "990ee5d3-f496-4a2f-b7c5-1f13d3bba729",
   "metadata": {},
   "source": [
    "The essence of CNN is largely intuitive: we need to run the image through all layers of the network, each of which will analyze individual features of the image. The layers contain convolution kernels (filters). They gradually pass through the entire image (at the same time, one core passes through all the channels of the image at once), then they summarize the features and transfer them to the next layer. Thus, the first layers can consider purely \"general\" features of the image (for example, all kinds of corners, backgrounds, or just all kinds of lines), and the next two layers will receive more processed data."
   ]
  },
  {
   "cell_type": "markdown",
   "id": "9fae8074-cb45-4e9d-a0e3-98a4e86c0295",
   "metadata": {},
   "source": [
    "We always use the inner parameters of every convolutional layer like inner_channels, outer_channels, stride, padding and bias. That's how the image's size changes after the conv. layer work:\n",
    "\n",
    "$$\n",
    "W_{\\text{out}} = \\frac{W_{\\text{in}} - K + 2P}{S} + 1\n",
    "$$\n",
    "\n",
    "$$\n",
    "H_{\\text{out}} = \\frac{H_{\\text{in}} - K + 2P}{S} + 1\n",
    "$$"
   ]
  },
  {
   "cell_type": "markdown",
   "id": "be52f111-bb5d-48d1-a37f-1f3c91b4a06c",
   "metadata": {},
   "source": [
    "It would seem that everything is fine: the image goes through layers, and then on the last fully connected Softmax layer (for example), the transmitted tensor is served fully processed, and thus the classification for the neural network of such a result will be much easier and better.\n",
    "But the problems start when the neural network requires more computing power, more processing of the output information and better accuracy, which, in turn, requires even more layers. However, let's look at training such a network:"
   ]
  },
  {
   "cell_type": "markdown",
   "id": "10a9e148-35c2-40e9-89ff-11f9253689eb",
   "metadata": {},
   "source": [
    "Let's consider a neural network with a sigmoid activation function:\n",
    "\n",
    "$$\n",
    "\\sigma(x) = \\frac{1}{1 + e^{-x}}\n",
    "$$\n",
    "\n",
    "Its derivative:\n",
    "\n",
    "$$\n",
    "\\sigma'(x) = \\sigma(x) \\cdot (1 - \\sigma(x))\n",
    "$$\n",
    "\n",
    "The maximum value of the sigmoid derivative is 0.25, which occurs when sigma(x) = 0.5. However, for large or small values of x, the derivative tends to zero, which leads to attenuation of the gradients.\n",
    "\n",
    "Consider a neural network consisting of successive layers with a sigmoid activation function. Let the loss function L(y) be the mean square error (MSE):\n",
    "\n",
    "$$\n",
    "L(y) = (y - \\hat{y})^2\n",
    "$$\n",
    "\n",
    "where 'y' is the true value, 'hat(y)' is the predicted value.\n",
    "\n",
    "Let us denote:\n",
    "- u_d is the input value of the neuron at the layer d;\n",
    "- w_d is the weight of the neuron at the layer d;\n",
    "- y is the output signal of the last layer.\n",
    "\n",
    "Let us calculate the partial derivative of the loss function with respect to the weight w_d:\n",
    "\n",
    "$$\n",
    "\\frac{\\partial L(y)}{\\partial w_d} = \\frac{\\partial L(y)}{\\partial y} \\cdot \\frac{\\partial y}{\\partial w_d}\n",
    "$$\n",
    "\n",
    "Let's look at each component:\n",
    "\n",
    "$$\n",
    "\\frac{\\partial L(y)}{\\partial y} = 2(y - \\hat{y})\n",
    "$$\n",
    "\n",
    "$$\n",
    "\\frac{\\partial y}{\\partial w_d} = \\sigma'(w_d u_d) \\cdot u_d\n",
    "$$\n",
    "\n",
    "Then:\n",
    "\n",
    "$$\n",
    "\\frac{\\partial L(y)}{\\partial w_d} = 2(y - \\hat{y}) \\cdot \\sigma'(w_d u_d) \\cdot u_d\n",
    "$$\n",
    "\n",
    "Since the maximum value of the sigmoid(x) = 0.25, we get:\n",
    "\n",
    "$$\n",
    "\\frac{\\partial L(y)}{\\partial w_d} \\leq 2(y - \\hat{y}) \\cdot 0.25 \\cdot u_d\n",
    "$$\n",
    "\n",
    "Let's consider the derivative with respect to the weight of the previous layer w_d-1:\n",
    "\n",
    "$$\n",
    "\\frac{\\partial L(y)}{\\partial w_{d-1}} = \\frac{\\partial L(y)}{\\partial y} \\cdot \\frac{\\partial y}{\\partial w_{d-1}}\n",
    "$$\n",
    "\n",
    "$$\n",
    "\\frac{\\partial L(y)}{\\partial w_{d-1}} \\leq 2(y - \\hat{y}) \\cdot (0.25)^2 \\cdot u_d \\cdot u_{d-1}\n",
    "$$"
   ]
  },
  {
   "cell_type": "markdown",
   "id": "ea4a9299-bf58-41d9-9e6f-bd13450ff964",
   "metadata": {},
   "source": [
    "We can easily see that if we continue to \"dig deep\", then in the end there will be almost nothing left of our gradient in the last layers, since it will decrease exponentially. Of course, in this case it would be logical to simply change one activation function to another, for example, sigmoid(x) will be changed to ReLU(x) function ***[ReLU(x) = max(0, x)]***. However, if some neuron gives only negative values to the input of the next layer, then the ReLU(x) will return only 0, and the derivative in this case will also be zero. That is, such a neuron will be considered \"dead\", because it does not affect the information processing process in any way, nor is it trained. What to do then?"
   ]
  },
  {
   "cell_type": "markdown",
   "id": "31064035-2903-46c3-bf9b-7dea7e4271cb",
   "metadata": {},
   "source": [
    "## *The Answer: Resudual Blocks:* ##"
   ]
  },
  {
   "cell_type": "markdown",
   "id": "bdf544e8-8037-4325-9157-2eda8be3a5ab",
   "metadata": {},
   "source": [
    "% Define the residual block: y = F(x) + x\n",
    "$$\n",
    "y = F(x) + x\n",
    "$$\n",
    "\n",
    "where F(x) — residual funcion which we want to minimize and x — inner tensor.\n",
    "\n",
    "Compute the derivative of y with respect to x\n",
    "$$\n",
    "\\frac{dy}{dx} = \\frac{dF(x)}{dx} + I,\n",
    "$$\n",
    "where I — identity matrix.\n",
    "\n",
    "Explanation: Even if the derivative of F(x) is small, the identity matrix ensures that the gradient does not vanish.\n",
    "$$\n",
    "\\frac{dy}{dx} \\geq I.\n",
    "$$\n",
    "\n",
    "Backpropagation: calculating the gradient through the residual block. In backpropagation, let the error at the output of the block be: $$\\frac{\\partial L}{\\partial y}$$\n",
    "\n",
    "Then the error at the input of the block is calculated by the chain differentiation rule:\n",
    "\n",
    "$$\n",
    "\\frac{\\partial L}{\\partial x} = \\frac{\\partial L}{\\partial y} \\left( \\frac{dF(x)}{dx} + I \\right).\n",
    "$$\n",
    "\n",
    "If the derivative of F(x) with respect to x is small, then the main contribution to the gradient is given by the identity matrix, and we obtain:\n",
    "$$\n",
    "\\frac{\\partial L}{\\partial x} \\approx \\frac{\\partial L}{\\partial y}.\n",
    "$$\n",
    "\n",
    "Conclusion: Residual blocks provide a direct gradient path, avoiding exponential decay."
   ]
  },
  {
   "cell_type": "markdown",
   "id": "8f8c182e-cd76-4949-aa52-bd06d34f0eb6",
   "metadata": {},
   "source": [
    "![Sample Image](https://neerc.ifmo.ru/wiki/images/f/f7/Residual.png)"
   ]
  },
  {
   "cell_type": "markdown",
   "id": "d91984d0-85b1-4166-9bc4-46c3ab80dcf0",
   "metadata": {},
   "source": [
    "Now when we understood the main idea, let's try to build such a network and we're going to start from the Residual Block making:"
   ]
  },
  {
   "cell_type": "markdown",
   "id": "8c8b6c07-521a-42cd-b3ba-e5d7d204615b",
   "metadata": {},
   "source": [
    "## *ResNet's Residual Block:* ##"
   ]
  },
  {
   "cell_type": "code",
   "execution_count": 9,
   "id": "a4fce111-2fd8-40ae-92ff-8fa54c7a8fe5",
   "metadata": {},
   "outputs": [],
   "source": [
    "# Residual Block:\n",
    "\n",
    "class ResidualBlock(nn.Module):\n",
    "    def __init__(self, in_channels, out_channels, stride = 1, downsample = None):\n",
    "        super(ResidualBlock, self).__init__()\n",
    "        self.conv1 = nn.Sequential(\n",
    "                    nn.Conv2d(in_channels, out_channels, kernel_size = 3, stride = stride, padding = 1, bias = False),\n",
    "                    nn.BatchNorm2d(out_channels),\n",
    "                    nn.ReLU())\n",
    "        self.conv2 = nn.Sequential(\n",
    "                    nn.Conv2d(out_channels, out_channels, kernel_size = 3, stride = 1, padding = 1, bias = False),\n",
    "                    nn.BatchNorm2d(out_channels))\n",
    "        self.downsample = downsample\n",
    "        self.relu = nn.ReLU()\n",
    "\n",
    "    def forward(self, x):\n",
    "        residual = x\n",
    "        first_out = self.conv1(x)\n",
    "        second_out = self.conv2(first_out)\n",
    "        if self.downsample is not None:\n",
    "            residual = self.downsample(x)\n",
    "        second_out += residual\n",
    "\n",
    "        final_result = self.relu(second_out)\n",
    "        return final_result"
   ]
  },
  {
   "cell_type": "markdown",
   "id": "d6e2d2a4-838d-49c8-b2c3-6393a39c307b",
   "metadata": {},
   "source": [
    "Then let's make the RNN itself now:"
   ]
  },
  {
   "cell_type": "markdown",
   "id": "d38cf8ce-e497-4547-89f6-20edb3a17a4e",
   "metadata": {},
   "source": [
    "## *Residual Neural Network:* ##"
   ]
  },
  {
   "cell_type": "code",
   "execution_count": 10,
   "id": "0867b77b-00ee-4917-b583-b96ad185028e",
   "metadata": {},
   "outputs": [],
   "source": [
    "# The Main ResNet architecture:\n",
    "\n",
    "class ResNet(nn.Module):\n",
    "    def __init__(self, ResidualBlock, layers, num_classes):\n",
    "        super(ResNet, self).__init__()\n",
    "        \n",
    "        self.inplanes = 64\n",
    "        self.conv1 = nn.Sequential(\n",
    "                    nn.Conv2d(3, 64, kernel_size = 7, stride = 2, padding = 3, bias = False),\n",
    "                    nn.BatchNorm2d(64),\n",
    "                    nn.ReLU(inplace = True))\n",
    "        self.maxpool = nn.MaxPool2d(kernel_size = 3, stride = 2, padding = 1)\n",
    "        \n",
    "        self.layer1 = self._make_layer(ResidualBlock, 64, layers[0], stride = 1)\n",
    "        self.layer2 = self._make_layer(ResidualBlock, 128, layers[1], stride = 2)\n",
    "        self.layer3 = self._make_layer(ResidualBlock, 256, layers[2], stride = 2)\n",
    "        self.layer4 = self._make_layer(ResidualBlock, 512, layers[3], stride = 2)\n",
    "        self.avgpool = nn.AdaptiveAvgPool2d(1)\n",
    "\n",
    "        self.outlayer = nn.Linear(512, num_classes, bias = False)\n",
    "\n",
    "    def _make_layer(self, block, planes, num_of_ResidualBlocks, stride = 1):\n",
    "        \n",
    "        downsample = None\n",
    "        if stride != 1 or self.inplanes != planes:\n",
    "            downsample = nn.Sequential(\n",
    "                        nn.Conv2d(self.inplanes, planes, kernel_size = 1, stride = stride, bias = False),\n",
    "                        nn.BatchNorm2d(planes))\n",
    "        layers = []\n",
    "        layers.append(ResidualBlock(self.inplanes, planes, stride, downsample))\n",
    "        self.inplanes = planes\n",
    "        for i in range(1, num_of_ResidualBlocks):\n",
    "            layers.append(block(self.inplanes, planes))\n",
    "\n",
    "        return nn.Sequential(*layers)\n",
    "\n",
    "    def forward(self, x):\n",
    "        x = self.conv1(x)\n",
    "        x = self.maxpool(x)\n",
    "        x = self.layer1(x)\n",
    "        x = self.layer2(x)\n",
    "        x = self.layer3(x)\n",
    "        x = self.layer4(x)\n",
    "\n",
    "        x = self.avgpool(x)\n",
    "        x = torch.flatten(x, 1)\n",
    "        x = self.outlayer(x)\n",
    "\n",
    "        return x"
   ]
  },
  {
   "cell_type": "markdown",
   "id": "014cf333-6f62-47e4-8050-77d933381919",
   "metadata": {},
   "source": [
    "And now let's train and test our model (don't forget about saving it!):"
   ]
  },
  {
   "cell_type": "markdown",
   "id": "2bda89cc-2a6f-45b8-bc8d-29baa577554e",
   "metadata": {},
   "source": [
    "## *ResNet Model Training and Testing:* ##"
   ]
  },
  {
   "cell_type": "code",
   "execution_count": 11,
   "id": "f5edaab2-5d7b-45a9-b792-0cc4c8ebd79b",
   "metadata": {},
   "outputs": [],
   "source": [
    "num_classes = 42\n",
    "epochs = 20\n",
    "batch_size = 32\n",
    "learning_rate = 0.01\n",
    "\n",
    "model = ResNet(ResidualBlock, [3, 4, 6, 3], num_classes).to(device)\n",
    "\n",
    "# Loss and Optimizer (for now in a simple view):\n",
    "criterion = nn.CrossEntropyLoss()\n",
    "optimizer = optim.Adam(model.parameters(), lr = learning_rate)"
   ]
  },
  {
   "cell_type": "code",
   "execution_count": 62,
   "id": "cf064c9d-6c49-45e9-8b85-500fec66008c",
   "metadata": {},
   "outputs": [],
   "source": [
    "# training function:\n",
    "def train_function(train_dataloader, model, loss_fn, optimizer, epochs):\n",
    "    \n",
    "    model.train()\n",
    "    for epoch in range(epochs):\n",
    "        running_loss = 0.0\n",
    "        for batch, (X, y) in enumerate(train_dataloader):\n",
    "\n",
    "            images, labels = X.to(device), y.to(device)\n",
    "            optimizer.zero_grad()\n",
    "            \n",
    "            # Compute prediction and loss:\n",
    "            prediction = model(images)\n",
    "            loss = loss_fn(prediction, labels)\n",
    "    \n",
    "            # Backpropagation:\n",
    "            loss.backward()\n",
    "            optimizer.step()\n",
    "\n",
    "            running_loss += loss.item()\n",
    "\n",
    "            if batch % 200 == 0:\n",
    "                print(f\"Epoch [{epoch + 1} / {epochs}], Batch [{batch + 1} / {len(train_dataloader)}], Loss: {loss.item():.5f}\\n\")\n",
    "         \n",
    "        print(f'For the {epoch + 1} epoch the loss is about: {(running_loss / len(train_dataloader)):.5f}...')"
   ]
  },
  {
   "cell_type": "code",
   "execution_count": null,
   "id": "dfa7f566-c62b-4c2c-8b10-27b9e63fd6f1",
   "metadata": {},
   "outputs": [],
   "source": [
    "train_function(train_dataloader, model, criterion, optimizer, epochs)\n",
    "# Model Saving:\n",
    "torch.save(model.state_dict(), \"resnet.pth\")"
   ]
  },
  {
   "cell_type": "markdown",
   "id": "a5ff8aa4-e6ee-4922-ac06-e7c9b6e889b5",
   "metadata": {},
   "source": [
    "Test Mode On:"
   ]
  },
  {
   "cell_type": "code",
   "execution_count": 12,
   "id": "d376d223-22e9-4cfa-a2ad-0c9494f8c3fa",
   "metadata": {
    "scrolled": true
   },
   "outputs": [
    {
     "data": {
      "text/plain": [
       "<All keys matched successfully>"
      ]
     },
     "execution_count": 12,
     "metadata": {},
     "output_type": "execute_result"
    }
   ],
   "source": [
    "model = ResNet(ResidualBlock, [3, 4, 6, 3], num_classes).to(device)\n",
    "model.load_state_dict(torch.load(\"resnet.pth\"))"
   ]
  },
  {
   "cell_type": "code",
   "execution_count": 67,
   "id": "2a89c006-5d7a-40a9-8e7c-4b3641c8fece",
   "metadata": {},
   "outputs": [],
   "source": [
    "test_dataset = datasets.ImageFolder(root = 'simpsons_dataset_v2/test/', transform = preprocess)\n",
    "torch.save(dataset, 'processed_test_dataset.pth')"
   ]
  },
  {
   "cell_type": "code",
   "execution_count": 20,
   "id": "b94f44d8-c1f1-4192-9ce6-c28977892b65",
   "metadata": {},
   "outputs": [],
   "source": [
    "test_dataset = torch.load('processed_test_dataset.pth', weights_only = False)\n",
    "test_dataloader = DataLoader(test_dataset, batch_size = 32, shuffle = True)"
   ]
  },
  {
   "cell_type": "code",
   "execution_count": 72,
   "id": "5c7495a0-8356-46ae-8662-72d0f3e19915",
   "metadata": {},
   "outputs": [
    {
     "name": "stdout",
     "output_type": "stream",
     "text": [
      "Accuracy on the test set is about: 99.540%\n"
     ]
    }
   ],
   "source": [
    "# test function:\n",
    "def test_function(model, test_dataloader):\n",
    "\n",
    "    model.eval()\n",
    "    correct, total = 0, 0\n",
    "    \n",
    "    with torch.no_grad():\n",
    "        for images, labels in test_dataloader:\n",
    "            images, labels = images.to(device), labels.to(device)\n",
    "            \n",
    "            # Predictions:\n",
    "            outputs = model(images)\n",
    "            _, predicted = torch.max(outputs, 1)\n",
    "            \n",
    "            # Count of the right answers:\n",
    "            total += labels.size(0)\n",
    "            correct += (predicted == labels).sum().item()\n",
    "    \n",
    "    accuracy = 100 * (correct / total)\n",
    "    return accuracy\n",
    "\n",
    "accuracy = test_function(model, test_dataloader)\n",
    "print(f'Accuracy on the test set is about: {accuracy:.3f}%')"
   ]
  },
  {
   "cell_type": "markdown",
   "id": "ecb65020-b5d5-40de-8a0c-bed36f250667",
   "metadata": {},
   "source": [
    "Wow! That's a pretty great result! But for the better understanding let's also calculate the models' recall and precision, too:"
   ]
  },
  {
   "cell_type": "markdown",
   "id": "50ee6ddb-489a-4007-8609-e1031887d063",
   "metadata": {},
   "source": [
    "## *ResNet's Precision:* ##"
   ]
  },
  {
   "cell_type": "code",
   "execution_count": 21,
   "id": "1ca548d4-0b11-44ac-b26c-705c3a3d4b24",
   "metadata": {},
   "outputs": [
    {
     "name": "stdout",
     "output_type": "stream",
     "text": [
      "abraham_grampa_simpson: 0.9989\n",
      "agnes_skinner: 0.9756\n",
      "apu_nahasapeemapetilon: 0.9984\n",
      "barney_gumble: 1.0000\n",
      "bart_simpson: 0.9948\n",
      "carl_carlson: 0.9703\n",
      "charles_montgomery_burns: 0.9958\n",
      "chief_wiggum: 0.9939\n",
      "cletus_spuckler: 1.0000\n",
      "comic_book_guy: 0.9831\n",
      "disco_stu: 0.9756\n",
      "edna_krabappel: 0.9934\n",
      "fat_tony: 1.0000\n",
      "gil: 1.0000\n",
      "groundskeeper_willie: 1.0000\n",
      "homer_simpson: 0.9929\n",
      "kent_brockman: 0.9960\n",
      "krusty_the_clown: 0.9934\n",
      "lenny_leonard: 1.0000\n",
      "lionel_hutz: 0.9091\n",
      "lisa_simpson: 0.9963\n",
      "maggie_simpson: 0.9697\n",
      "marge_simpson: 0.9984\n",
      "martin_prince: 1.0000\n",
      "mayor_quimby: 1.0000\n",
      "milhouse_van_houten: 0.9926\n",
      "miss_hoover: 0.9756\n",
      "moe_szyslak: 0.9966\n",
      "ned_flanders: 0.9973\n",
      "nelson_muntz: 0.9972\n",
      "otto_mann: 1.0000\n",
      "patty_bouvier: 0.9600\n",
      "principal_skinner: 1.0000\n",
      "professor_john_frink: 0.9559\n",
      "rainier_wolfcastle: 1.0000\n",
      "ralph_wiggum: 0.9886\n",
      "selma_bouvier: 1.0000\n",
      "sideshow_bob: 0.9964\n",
      "sideshow_mel: 1.0000\n",
      "snake_jailbird: 1.0000\n",
      "troy_mcclure: 1.0000\n",
      "waylon_smithers: 0.7702\n"
     ]
    }
   ],
   "source": [
    "def precision_calculating(model, test_dataloader, device, num_classes):\n",
    "    TP = np.zeros(num_classes) # True Positives\n",
    "    FP = np.zeros(num_classes) # False Positives\n",
    "    class_counts = np.zeros(num_classes) # each class's images count\n",
    "\n",
    "    with torch.no_grad():\n",
    "        for images, labels in test_dataloader:\n",
    "            images, labels = images.to(device), labels.to(device)\n",
    "            \n",
    "            outputs = model(images)\n",
    "            _, predicted = torch.max(outputs, 1)\n",
    "\n",
    "            for i in range(len(labels)):\n",
    "                class_counts[labels[i].item()] += 1\n",
    "\n",
    "                if predicted[i] == labels[i]:  \n",
    "                    TP[predicted[i].item()] += 1\n",
    "                else:\n",
    "                    FP[predicted[i].item()] += 1\n",
    "\n",
    "    precision = np.divide(TP, TP + FP, out = np.zeros_like(TP), where = (TP + FP) != 0) # to avoid deviding on zero\n",
    "    return precision\n",
    "\n",
    "precision_scores = precision_calculating(model, test_dataloader, device, len(list_of_heroes))\n",
    "for hero, score in zip(list_of_heroes, precision_scores):\n",
    "    print(f'{hero}: {score:.4f}')"
   ]
  },
  {
   "cell_type": "markdown",
   "id": "494ecbc3-0e45-42d4-8120-1af1caa43c1f",
   "metadata": {},
   "source": [
    "Not bad at all :) (but you **need** to remember - some of classes are small so the results like these are not so unpredictable if to think..."
   ]
  },
  {
   "cell_type": "markdown",
   "id": "47906906-09ad-46bd-80ba-5f0153da69cd",
   "metadata": {},
   "source": [
    "Now let's calculate the model's recall!"
   ]
  },
  {
   "cell_type": "markdown",
   "id": "114e45ba-9d08-483f-864e-fbfa61f87639",
   "metadata": {},
   "source": [
    "## *ResNet's Recall:* ##"
   ]
  },
  {
   "cell_type": "code",
   "execution_count": 24,
   "id": "caf34146-9ca2-4d75-b1f7-0e616bd89fb7",
   "metadata": {},
   "outputs": [
    {
     "name": "stdout",
     "output_type": "stream",
     "text": [
      "abraham_grampa_simpson: 0.9978\n",
      "agnes_skinner: 0.9762\n",
      "apu_nahasapeemapetilon: 0.9936\n",
      "barney_gumble: 1.0000\n",
      "bart_simpson: 0.9963\n",
      "carl_carlson: 0.9898\n",
      "charles_montgomery_burns: 0.9966\n",
      "chief_wiggum: 0.9909\n",
      "cletus_spuckler: 1.0000\n",
      "comic_book_guy: 0.9957\n",
      "disco_stu: 1.0000\n",
      "edna_krabappel: 0.9956\n",
      "fat_tony: 0.9750\n",
      "gil: 0.9250\n",
      "groundskeeper_willie: 0.9752\n",
      "homer_simpson: 0.9960\n",
      "kent_brockman: 1.0000\n",
      "krusty_the_clown: 0.9950\n",
      "lenny_leonard: 0.9968\n",
      "lionel_hutz: 1.0000\n",
      "lisa_simpson: 0.9970\n",
      "maggie_simpson: 0.9844\n",
      "marge_simpson: 0.9961\n",
      "martin_prince: 1.0000\n",
      "mayor_quimby: 0.9919\n",
      "milhouse_van_houten: 0.9991\n",
      "miss_hoover: 1.0000\n",
      "moe_szyslak: 0.9979\n",
      "ned_flanders: 0.9979\n",
      "nelson_muntz: 1.0000\n",
      "otto_mann: 0.9750\n",
      "patty_bouvier: 1.0000\n",
      "principal_skinner: 0.9824\n",
      "professor_john_frink: 1.0000\n",
      "rainier_wolfcastle: 1.0000\n",
      "ralph_wiggum: 0.9888\n",
      "selma_bouvier: 1.0000\n",
      "sideshow_bob: 0.9453\n",
      "sideshow_mel: 0.9750\n",
      "snake_jailbird: 1.0000\n",
      "troy_mcclure: 1.0000\n",
      "waylon_smithers: 0.9945\n"
     ]
    }
   ],
   "source": [
    "def recall_function(model, test_dataloader, device, num_classes):\n",
    "    TP = np.zeros(num_classes)  # True Positives\n",
    "    FN = np.zeros(num_classes)  # False Negatives\n",
    "    class_counts = np.zeros(num_classes) # each class's images count\n",
    "\n",
    "    with torch.no_grad():\n",
    "        for images, labels in test_dataloader:\n",
    "            images, labels = images.to(device), labels.to(device)\n",
    "            \n",
    "            outputs = model(images)\n",
    "            _, predicted = torch.max(outputs, 1)\n",
    "\n",
    "            for i in range(len(labels)):\n",
    "                class_counts[labels[i].item()] += 1\n",
    "\n",
    "                if predicted[i] == labels[i]:  \n",
    "                    TP[predicted[i].item()] += 1 \n",
    "                else:\n",
    "                    FN[labels[i].item()] += 1\n",
    "                    \n",
    "    recall = np.divide(TP, TP + FN, out = np.zeros_like(TP), where = (TP + FN) != 0)  \n",
    "    return recall\n",
    "\n",
    "\n",
    "recall_scores = recall_function(model, test_dataloader, device, len(list_of_heroes))\n",
    "for hero, score in zip(list_of_heroes, recall_scores):\n",
    "    print(f'{hero}: {score:.4f}')"
   ]
  },
  {
   "cell_type": "markdown",
   "id": "2b208112-65b7-4a48-b764-0f72ee30febb",
   "metadata": {},
   "source": [
    "Yap, that's nice (at least, I think so...)\n",
    "Now, thanks a lot for the reading my notebook! Goodbye and good luck in everything!"
   ]
  },
  {
   "cell_type": "code",
   "execution_count": 25,
   "id": "feb95ead-a752-4d58-b992-56d69ba061ed",
   "metadata": {},
   "outputs": [],
   "source": [
    "# ..."
   ]
  }
 ],
 "metadata": {
  "kernelspec": {
   "display_name": "NSU_work_env: jp-Kernel",
   "language": "python",
   "name": "nsu_work_env_jp-kenrel"
  },
  "language_info": {
   "codemirror_mode": {
    "name": "ipython",
    "version": 3
   },
   "file_extension": ".py",
   "mimetype": "text/x-python",
   "name": "python",
   "nbconvert_exporter": "python",
   "pygments_lexer": "ipython3",
   "version": "3.12.8"
  }
 },
 "nbformat": 4,
 "nbformat_minor": 5
}
